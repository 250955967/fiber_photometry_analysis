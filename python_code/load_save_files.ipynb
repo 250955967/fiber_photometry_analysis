{
 "cells": [
  {
   "cell_type": "code",
   "execution_count": 6,
   "id": "c7f84df9",
   "metadata": {},
   "outputs": [],
   "source": [
    "# 20220913 DZ changed to store the *.npy\n",
    "# 20220916 dz only store the first three column\n",
    "# 20220917 dz generate a general script"
   ]
  },
  {
   "cell_type": "code",
   "execution_count": 7,
   "id": "bb2a7e5c",
   "metadata": {},
   "outputs": [
    {
     "name": "stdout",
     "output_type": "stream",
     "text": [
      "C:/Users/Lab_PC1/Documents/fiberPhotometryData/analyzed_data/dz37/20221128/\n",
      "20221128\n",
      "11/28/2022\n"
     ]
    }
   ],
   "source": [
    "from datetime import datetime\n",
    "start_time = datetime.now()\n",
    "end_time = datetime.now()\n",
    "p_mother = 'C:/Users/Lab_PC1/Documents/fiberPhotometryData/analyzed_data/'\n",
    "mouse_id = 'dz37/'\n",
    "rec_d    = '20221128/'\n",
    "save_p   = 'C:/Users/Lab_PC1/Documents/fiberPhotometryData/analyzed_data_innpy/'\n",
    "save_n = save_p + mouse_id + rec_d[0:-1]+'.npy'\n",
    "p = p_mother + mouse_id + rec_d\n",
    "print(p)\n",
    "dt = rec_d[:-1]\n",
    "print(dt)\n",
    "dt2 = datetime.strptime(dt, '%Y%m%d').strftime('%#m/%#d/%Y')# caps Y will be 2022, uncaps will be 22\n",
    "print(dt2)"
   ]
  },
  {
   "cell_type": "code",
   "execution_count": 8,
   "id": "eca61f7e",
   "metadata": {},
   "outputs": [
    {
     "name": "stdout",
     "output_type": "stream",
     "text": [
      "dz37\n",
      "11/28/2022\n"
     ]
    }
   ],
   "source": [
    "import os\n",
    "os.chdir(p)\n",
    "#folder_n = os.path.basename(os.getcwd())\n",
    "#print(folder_n)\n",
    "path = os.getcwd()\n",
    "#rec_date = os.path.basename(path)\n",
    "rec_date = dt2  # the first role of each *.dat\n",
    "parent = os.path.dirname(path)\n",
    "mouse_n = parent.split('\\\\')[-1]\n",
    "print(mouse_n)\n",
    "print(rec_date)"
   ]
  },
  {
   "cell_type": "code",
   "execution_count": 9,
   "id": "25cfd87d",
   "metadata": {},
   "outputs": [],
   "source": [
    "# deng zhang rename the filename not good\n",
    "# dz combine rename_3digit and load_savefiles in the same program\n",
    "import os,glob\n",
    "\n",
    "#src_folder = r\"/user/bin/\"\n",
    "for file_name in glob.glob(os.path.join(\"*.dat\")):\n",
    "    #print (file_name)\n",
    "    #lst = file_name.split('_').split('.')\n",
    "    lst = file_name.split('_')[-1].split('.')[0]\n",
    "    animal_n = file_name.split('_')\n",
    "    \n",
    "    #print(animal_n[0])\n",
    "    \n",
    "    #print(lst)\n",
    "    #print(lst[0])\n",
    "\n",
    "    if len(lst) < 3:\n",
    "        try:\n",
    "            value = int(lst[0])\n",
    "            #print(value)\n",
    "        except ValueError:\n",
    "            continue\n",
    "        lst_1 = lst.zfill(3)\n",
    "        #lst = lst.zfill(3)\n",
    "        #print(lst_1)\n",
    "        \n",
    "        os.replace(file_name, ''.join([animal_n[0]+'_'+lst_1+'.dat']))"
   ]
  },
  {
   "cell_type": "code",
   "execution_count": 10,
   "id": "58e32ca5",
   "metadata": {
    "scrolled": false
   },
   "outputs": [
    {
     "name": "stdout",
     "output_type": "stream",
     "text": [
      "dz37_11-28-2022.csv\n",
      "dz37_000.dat\n"
     ]
    },
    {
     "ename": "ValueError",
     "evalue": "Length mismatch: Expected axis has 9 elements, new values have 5 elements",
     "output_type": "error",
     "traceback": [
      "\u001b[1;31m---------------------------------------------------------------------------\u001b[0m",
      "\u001b[1;31mValueError\u001b[0m                                Traceback (most recent call last)",
      "\u001b[1;32m~\\AppData\\Local\\Temp/ipykernel_12576/1470549028.py\u001b[0m in \u001b[0;36m<module>\u001b[1;34m\u001b[0m\n\u001b[0;32m     19\u001b[0m         \u001b[1;31m#print(df1)\u001b[0m\u001b[1;33m\u001b[0m\u001b[1;33m\u001b[0m\u001b[0m\n\u001b[0;32m     20\u001b[0m         \u001b[0mdf2\u001b[0m \u001b[1;33m=\u001b[0m \u001b[0mdf1\u001b[0m\u001b[1;33m[\u001b[0m\u001b[0mrec_date\u001b[0m\u001b[1;33m]\u001b[0m\u001b[1;33m.\u001b[0m\u001b[0mstr\u001b[0m\u001b[1;33m.\u001b[0m\u001b[0msplit\u001b[0m\u001b[1;33m(\u001b[0m\u001b[1;34m'\\t'\u001b[0m\u001b[1;33m,\u001b[0m \u001b[0mexpand\u001b[0m\u001b[1;33m=\u001b[0m\u001b[1;32mTrue\u001b[0m\u001b[1;33m)\u001b[0m\u001b[1;33m\u001b[0m\u001b[1;33m\u001b[0m\u001b[0m\n\u001b[1;32m---> 21\u001b[1;33m         \u001b[0mdf2\u001b[0m\u001b[1;33m.\u001b[0m\u001b[0mcolumns\u001b[0m \u001b[1;33m=\u001b[0m\u001b[1;33m[\u001b[0m\u001b[1;34m'Time'\u001b[0m\u001b[1;33m,\u001b[0m \u001b[1;34m'tv0'\u001b[0m\u001b[1;33m,\u001b[0m \u001b[1;34m'tv1'\u001b[0m\u001b[1;33m,\u001b[0m \u001b[1;34m'ty0'\u001b[0m\u001b[1;33m,\u001b[0m \u001b[1;34m'ty1'\u001b[0m\u001b[1;33m]\u001b[0m\u001b[1;33m\u001b[0m\u001b[1;33m\u001b[0m\u001b[0m\n\u001b[0m\u001b[0;32m     22\u001b[0m         \u001b[0mdf2\u001b[0m \u001b[1;33m=\u001b[0m \u001b[0mdf2\u001b[0m\u001b[1;33m.\u001b[0m\u001b[0mreset_index\u001b[0m\u001b[1;33m(\u001b[0m\u001b[0mdrop\u001b[0m\u001b[1;33m=\u001b[0m\u001b[1;32mTrue\u001b[0m\u001b[1;33m)\u001b[0m\u001b[1;33m\u001b[0m\u001b[1;33m\u001b[0m\u001b[0m\n\u001b[0;32m     23\u001b[0m         \u001b[1;31m#display(df2)\u001b[0m\u001b[1;33m\u001b[0m\u001b[1;33m\u001b[0m\u001b[0m\n",
      "\u001b[1;32m~\\anaconda3\\lib\\site-packages\\pandas\\core\\generic.py\u001b[0m in \u001b[0;36m__setattr__\u001b[1;34m(self, name, value)\u001b[0m\n\u001b[0;32m   5498\u001b[0m         \u001b[1;32mtry\u001b[0m\u001b[1;33m:\u001b[0m\u001b[1;33m\u001b[0m\u001b[1;33m\u001b[0m\u001b[0m\n\u001b[0;32m   5499\u001b[0m             \u001b[0mobject\u001b[0m\u001b[1;33m.\u001b[0m\u001b[0m__getattribute__\u001b[0m\u001b[1;33m(\u001b[0m\u001b[0mself\u001b[0m\u001b[1;33m,\u001b[0m \u001b[0mname\u001b[0m\u001b[1;33m)\u001b[0m\u001b[1;33m\u001b[0m\u001b[1;33m\u001b[0m\u001b[0m\n\u001b[1;32m-> 5500\u001b[1;33m             \u001b[1;32mreturn\u001b[0m \u001b[0mobject\u001b[0m\u001b[1;33m.\u001b[0m\u001b[0m__setattr__\u001b[0m\u001b[1;33m(\u001b[0m\u001b[0mself\u001b[0m\u001b[1;33m,\u001b[0m \u001b[0mname\u001b[0m\u001b[1;33m,\u001b[0m \u001b[0mvalue\u001b[0m\u001b[1;33m)\u001b[0m\u001b[1;33m\u001b[0m\u001b[1;33m\u001b[0m\u001b[0m\n\u001b[0m\u001b[0;32m   5501\u001b[0m         \u001b[1;32mexcept\u001b[0m \u001b[0mAttributeError\u001b[0m\u001b[1;33m:\u001b[0m\u001b[1;33m\u001b[0m\u001b[1;33m\u001b[0m\u001b[0m\n\u001b[0;32m   5502\u001b[0m             \u001b[1;32mpass\u001b[0m\u001b[1;33m\u001b[0m\u001b[1;33m\u001b[0m\u001b[0m\n",
      "\u001b[1;32m~\\anaconda3\\lib\\site-packages\\pandas\\_libs\\properties.pyx\u001b[0m in \u001b[0;36mpandas._libs.properties.AxisProperty.__set__\u001b[1;34m()\u001b[0m\n",
      "\u001b[1;32m~\\anaconda3\\lib\\site-packages\\pandas\\core\\generic.py\u001b[0m in \u001b[0;36m_set_axis\u001b[1;34m(self, axis, labels)\u001b[0m\n\u001b[0;32m    764\u001b[0m     \u001b[1;32mdef\u001b[0m \u001b[0m_set_axis\u001b[0m\u001b[1;33m(\u001b[0m\u001b[0mself\u001b[0m\u001b[1;33m,\u001b[0m \u001b[0maxis\u001b[0m\u001b[1;33m:\u001b[0m \u001b[0mint\u001b[0m\u001b[1;33m,\u001b[0m \u001b[0mlabels\u001b[0m\u001b[1;33m:\u001b[0m \u001b[0mIndex\u001b[0m\u001b[1;33m)\u001b[0m \u001b[1;33m->\u001b[0m \u001b[1;32mNone\u001b[0m\u001b[1;33m:\u001b[0m\u001b[1;33m\u001b[0m\u001b[1;33m\u001b[0m\u001b[0m\n\u001b[0;32m    765\u001b[0m         \u001b[0mlabels\u001b[0m \u001b[1;33m=\u001b[0m \u001b[0mensure_index\u001b[0m\u001b[1;33m(\u001b[0m\u001b[0mlabels\u001b[0m\u001b[1;33m)\u001b[0m\u001b[1;33m\u001b[0m\u001b[1;33m\u001b[0m\u001b[0m\n\u001b[1;32m--> 766\u001b[1;33m         \u001b[0mself\u001b[0m\u001b[1;33m.\u001b[0m\u001b[0m_mgr\u001b[0m\u001b[1;33m.\u001b[0m\u001b[0mset_axis\u001b[0m\u001b[1;33m(\u001b[0m\u001b[0maxis\u001b[0m\u001b[1;33m,\u001b[0m \u001b[0mlabels\u001b[0m\u001b[1;33m)\u001b[0m\u001b[1;33m\u001b[0m\u001b[1;33m\u001b[0m\u001b[0m\n\u001b[0m\u001b[0;32m    767\u001b[0m         \u001b[0mself\u001b[0m\u001b[1;33m.\u001b[0m\u001b[0m_clear_item_cache\u001b[0m\u001b[1;33m(\u001b[0m\u001b[1;33m)\u001b[0m\u001b[1;33m\u001b[0m\u001b[1;33m\u001b[0m\u001b[0m\n\u001b[0;32m    768\u001b[0m \u001b[1;33m\u001b[0m\u001b[0m\n",
      "\u001b[1;32m~\\anaconda3\\lib\\site-packages\\pandas\\core\\internals\\managers.py\u001b[0m in \u001b[0;36mset_axis\u001b[1;34m(self, axis, new_labels)\u001b[0m\n\u001b[0;32m    214\u001b[0m     \u001b[1;32mdef\u001b[0m \u001b[0mset_axis\u001b[0m\u001b[1;33m(\u001b[0m\u001b[0mself\u001b[0m\u001b[1;33m,\u001b[0m \u001b[0maxis\u001b[0m\u001b[1;33m:\u001b[0m \u001b[0mint\u001b[0m\u001b[1;33m,\u001b[0m \u001b[0mnew_labels\u001b[0m\u001b[1;33m:\u001b[0m \u001b[0mIndex\u001b[0m\u001b[1;33m)\u001b[0m \u001b[1;33m->\u001b[0m \u001b[1;32mNone\u001b[0m\u001b[1;33m:\u001b[0m\u001b[1;33m\u001b[0m\u001b[1;33m\u001b[0m\u001b[0m\n\u001b[0;32m    215\u001b[0m         \u001b[1;31m# Caller is responsible for ensuring we have an Index object.\u001b[0m\u001b[1;33m\u001b[0m\u001b[1;33m\u001b[0m\u001b[0m\n\u001b[1;32m--> 216\u001b[1;33m         \u001b[0mself\u001b[0m\u001b[1;33m.\u001b[0m\u001b[0m_validate_set_axis\u001b[0m\u001b[1;33m(\u001b[0m\u001b[0maxis\u001b[0m\u001b[1;33m,\u001b[0m \u001b[0mnew_labels\u001b[0m\u001b[1;33m)\u001b[0m\u001b[1;33m\u001b[0m\u001b[1;33m\u001b[0m\u001b[0m\n\u001b[0m\u001b[0;32m    217\u001b[0m         \u001b[0mself\u001b[0m\u001b[1;33m.\u001b[0m\u001b[0maxes\u001b[0m\u001b[1;33m[\u001b[0m\u001b[0maxis\u001b[0m\u001b[1;33m]\u001b[0m \u001b[1;33m=\u001b[0m \u001b[0mnew_labels\u001b[0m\u001b[1;33m\u001b[0m\u001b[1;33m\u001b[0m\u001b[0m\n\u001b[0;32m    218\u001b[0m \u001b[1;33m\u001b[0m\u001b[0m\n",
      "\u001b[1;32m~\\anaconda3\\lib\\site-packages\\pandas\\core\\internals\\base.py\u001b[0m in \u001b[0;36m_validate_set_axis\u001b[1;34m(self, axis, new_labels)\u001b[0m\n\u001b[0;32m     55\u001b[0m \u001b[1;33m\u001b[0m\u001b[0m\n\u001b[0;32m     56\u001b[0m         \u001b[1;32melif\u001b[0m \u001b[0mnew_len\u001b[0m \u001b[1;33m!=\u001b[0m \u001b[0mold_len\u001b[0m\u001b[1;33m:\u001b[0m\u001b[1;33m\u001b[0m\u001b[1;33m\u001b[0m\u001b[0m\n\u001b[1;32m---> 57\u001b[1;33m             raise ValueError(\n\u001b[0m\u001b[0;32m     58\u001b[0m                 \u001b[1;34mf\"Length mismatch: Expected axis has {old_len} elements, new \"\u001b[0m\u001b[1;33m\u001b[0m\u001b[1;33m\u001b[0m\u001b[0m\n\u001b[0;32m     59\u001b[0m                 \u001b[1;34mf\"values have {new_len} elements\"\u001b[0m\u001b[1;33m\u001b[0m\u001b[1;33m\u001b[0m\u001b[0m\n",
      "\u001b[1;31mValueError\u001b[0m: Length mismatch: Expected axis has 9 elements, new values have 5 elements"
     ]
    }
   ],
   "source": [
    "import os\n",
    "import pandas as pd\n",
    "entries = os.listdir()\n",
    "#rec_date = '8/6/2022'\n",
    "#mouse_n = 'dz21'\n",
    "n_n = rec_date.replace('/','-')\n",
    "\n",
    "tot_f_n = mouse_n+'_'+n_n+'.csv'\n",
    "print(tot_f_n)\n",
    "li = []\n",
    "for file in entries:\n",
    "    # Check whether file is in text format or not\n",
    "    if file.endswith(\".dat\"):\n",
    "        print(file)\n",
    "        # call read text file function\n",
    "        df = pd.read_csv(file,sep='\\s\\s+', engine='python')\n",
    "        dfLen = len(df)-2 # exclude of the first two rows\n",
    "        df1 = df.loc[2:dfLen,:]\n",
    "        #print(df1)\n",
    "        df2 = df1[rec_date].str.split('\\t', expand=True)\n",
    "        df2.columns =['Time', 'tv0', 'tv1', 'ty0', 'ty1']\n",
    "        df2 = df2.reset_index(drop=True)\n",
    "        #display(df2)\n",
    "        df3 = df2.loc[:,'Time':'tv1']\n",
    "        #display(df3)\n",
    "        li.append(df3)\n",
    "frame = pd.concat(li, axis=0, ignore_index=True)\n",
    "\n",
    "#frame.to_csv(tot_f_n, index=False)\n"
   ]
  },
  {
   "cell_type": "code",
   "execution_count": null,
   "id": "8f3359a6",
   "metadata": {},
   "outputs": [],
   "source": [
    "#import numpy as np, scipy.io\n",
    "#truncDataFrame = frame # reduce data size for test purposes\n",
    "#scipy.io.savemat('EEGdata1.mat', {'struct1':truncDataFrame.to_dict(\"list\")})"
   ]
  },
  {
   "cell_type": "code",
   "execution_count": null,
   "id": "0a031c1e",
   "metadata": {},
   "outputs": [],
   "source": [
    "import numpy as np\n",
    "f_array = frame.to_numpy()\n",
    "#np.save('Calcium_data.npy', f_array) # save\n",
    "np.save(save_n, f_array) # save\n",
    "#np.savetxt('test1.txt', f_array)"
   ]
  },
  {
   "cell_type": "code",
   "execution_count": null,
   "id": "452d1dc4",
   "metadata": {},
   "outputs": [],
   "source": [
    "#new_num_arr = np.load('Calcium_data.npy', allow_pickle=True) # load\n",
    "end_time = datetime.now()\n",
    "print('Duration: {}'.format(end_time - start_time))"
   ]
  },
  {
   "cell_type": "code",
   "execution_count": null,
   "id": "4cdc525d",
   "metadata": {},
   "outputs": [],
   "source": [
    "import winsound\n",
    "duration = 100  # milliseconds\n",
    "freq = 440  # Hz\n",
    "winsound.Beep(freq, duration)"
   ]
  },
  {
   "cell_type": "code",
   "execution_count": null,
   "id": "ef6837c1",
   "metadata": {},
   "outputs": [],
   "source": []
  }
 ],
 "metadata": {
  "kernelspec": {
   "display_name": "Python 3 (ipykernel)",
   "language": "python",
   "name": "python3"
  },
  "language_info": {
   "codemirror_mode": {
    "name": "ipython",
    "version": 3
   },
   "file_extension": ".py",
   "mimetype": "text/x-python",
   "name": "python",
   "nbconvert_exporter": "python",
   "pygments_lexer": "ipython3",
   "version": "3.9.7"
  }
 },
 "nbformat": 4,
 "nbformat_minor": 5
}
