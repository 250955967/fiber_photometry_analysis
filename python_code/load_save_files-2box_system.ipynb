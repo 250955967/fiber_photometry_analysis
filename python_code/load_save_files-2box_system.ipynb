{
 "cells": [
  {
   "cell_type": "code",
   "execution_count": 15,
   "id": "c7f84df9",
   "metadata": {},
   "outputs": [],
   "source": [
    "# 20220913 DZ changed to store the *.npy\n",
    "# 20220916 dz only store the first three column\n",
    "# 20220917 dz generate a general script"
   ]
  },
  {
   "cell_type": "code",
   "execution_count": 16,
   "id": "bb2a7e5c",
   "metadata": {},
   "outputs": [
    {
     "name": "stdout",
     "output_type": "stream",
     "text": [
      "C:/Users/Lab_PC1/Documents/fiberPhotometryData/analyzed_data/dz49_dz46/20221222/\n",
      "20221222\n",
      "12/22/2022\n"
     ]
    }
   ],
   "source": [
    "from datetime import datetime\n",
    "start_time = datetime.now()\n",
    "end_time = datetime.now()\n",
    "p_mother = 'C:/Users/Lab_PC1/Documents/fiberPhotometryData/analyzed_data/'\n",
    "mouse_id = 'dz49_dz46/'\n",
    "rec_d    = '20221222/'\n",
    "save_p   = 'C:/Users/Lab_PC1/Documents/fiberPhotometryData/analyzed_data_innpy/'\n",
    "save_n = save_p + mouse_id + rec_d[0:-1]+'.npy'\n",
    "p = p_mother + mouse_id + rec_d\n",
    "print(p)\n",
    "dt = rec_d[:-1]\n",
    "print(dt)\n",
    "dt2 = datetime.strptime(dt, '%Y%m%d').strftime('%#m/%#d/%Y')# caps Y will be 2022, uncaps will be 22\n",
    "print(dt2)"
   ]
  },
  {
   "cell_type": "code",
   "execution_count": 17,
   "id": "eca61f7e",
   "metadata": {},
   "outputs": [
    {
     "name": "stdout",
     "output_type": "stream",
     "text": [
      "dz49_dz46\n",
      "12/22/2022\n"
     ]
    }
   ],
   "source": [
    "import os\n",
    "os.chdir(p)\n",
    "#folder_n = os.path.basename(os.getcwd())\n",
    "#print(folder_n)\n",
    "path = os.getcwd()\n",
    "#rec_date = os.path.basename(path)\n",
    "rec_date = dt2  # the first role of each *.dat\n",
    "parent = os.path.dirname(path)\n",
    "mouse_n = parent.split('\\\\')[-1]\n",
    "print(mouse_n)\n",
    "print(rec_date)"
   ]
  },
  {
   "cell_type": "code",
   "execution_count": 18,
   "id": "25cfd87d",
   "metadata": {},
   "outputs": [],
   "source": [
    "# deng zhang rename the filename not good\n",
    "# dz combine rename_3digit and load_savefiles in the same program\n",
    "import os,glob\n",
    "\n",
    "#src_folder = r\"/user/bin/\"\n",
    "for file_name in glob.glob(os.path.join(\"*.dat\")):\n",
    "    #print (file_name)\n",
    "    #lst = file_name.split('_').split('.')\n",
    "    lst = file_name.split('_')[-1].split('.')[0]\n",
    "    animal_n = file_name.split('_')\n",
    "    \n",
    "    #print(animal_n[0])\n",
    "    \n",
    "    #print(lst)\n",
    "    #print(lst[0])\n",
    "\n",
    "    if len(lst) < 3:\n",
    "        try:\n",
    "            value = int(lst[0])\n",
    "            #print(value)\n",
    "        except ValueError:\n",
    "            continue\n",
    "        lst_1 = lst.zfill(3)\n",
    "        #lst = lst.zfill(3)\n",
    "        #print(lst_1)\n",
    "        \n",
    "        #os.replace(file_name, ''.join([animal_n[0]+'_'+lst_1+'.dat']))  # for 1 animal\n",
    "        os.replace(file_name, ''.join([animal_n[0]+'_'+animal_n[1]+'_'+lst_1+'.dat']))"
   ]
  },
  {
   "cell_type": "code",
   "execution_count": 19,
   "id": "58e32ca5",
   "metadata": {
    "scrolled": true
   },
   "outputs": [
    {
     "name": "stdout",
     "output_type": "stream",
     "text": [
      "dz49_dz46_12-22-2022.csv\n",
      "dz49_dz46_000.dat\n",
      "dz49_dz46_001.dat\n",
      "dz49_dz46_002.dat\n",
      "dz49_dz46_003.dat\n",
      "dz49_dz46_004.dat\n",
      "dz49_dz46_005.dat\n",
      "dz49_dz46_006.dat\n",
      "dz49_dz46_007.dat\n",
      "dz49_dz46_008.dat\n",
      "dz49_dz46_009.dat\n",
      "dz49_dz46_010.dat\n",
      "dz49_dz46_011.dat\n",
      "dz49_dz46_012.dat\n",
      "dz49_dz46_013.dat\n",
      "dz49_dz46_014.dat\n",
      "dz49_dz46_015.dat\n",
      "dz49_dz46_016.dat\n",
      "dz49_dz46_017.dat\n",
      "dz49_dz46_018.dat\n",
      "dz49_dz46_019.dat\n",
      "dz49_dz46_020.dat\n",
      "dz49_dz46_021.dat\n",
      "dz49_dz46_022.dat\n",
      "dz49_dz46_023.dat\n",
      "dz49_dz46_024.dat\n",
      "dz49_dz46_025.dat\n",
      "dz49_dz46_026.dat\n",
      "dz49_dz46_027.dat\n",
      "dz49_dz46_028.dat\n",
      "dz49_dz46_029.dat\n",
      "dz49_dz46_030.dat\n",
      "dz49_dz46_031.dat\n",
      "dz49_dz46_032.dat\n",
      "dz49_dz46_033.dat\n",
      "dz49_dz46_034.dat\n",
      "dz49_dz46_035.dat\n",
      "dz49_dz46_036.dat\n",
      "dz49_dz46_037.dat\n",
      "dz49_dz46_038.dat\n",
      "dz49_dz46_039.dat\n",
      "dz49_dz46_040.dat\n",
      "dz49_dz46_041.dat\n",
      "dz49_dz46_042.dat\n",
      "dz49_dz46_043.dat\n",
      "dz49_dz46_044.dat\n",
      "dz49_dz46_045.dat\n",
      "dz49_dz46_046.dat\n",
      "dz49_dz46_047.dat\n",
      "dz49_dz46_048.dat\n",
      "dz49_dz46_049.dat\n",
      "dz49_dz46_050.dat\n",
      "dz49_dz46_051.dat\n",
      "dz49_dz46_052.dat\n",
      "dz49_dz46_053.dat\n",
      "dz49_dz46_054.dat\n",
      "dz49_dz46_055.dat\n",
      "dz49_dz46_056.dat\n",
      "dz49_dz46_057.dat\n",
      "dz49_dz46_058.dat\n",
      "dz49_dz46_059.dat\n",
      "dz49_dz46_060.dat\n",
      "dz49_dz46_061.dat\n",
      "dz49_dz46_062.dat\n",
      "dz49_dz46_063.dat\n",
      "dz49_dz46_064.dat\n",
      "dz49_dz46_065.dat\n",
      "dz49_dz46_066.dat\n",
      "dz49_dz46_067.dat\n",
      "dz49_dz46_068.dat\n",
      "dz49_dz46_069.dat\n",
      "dz49_dz46_070.dat\n",
      "dz49_dz46_071.dat\n",
      "dz49_dz46_072.dat\n",
      "dz49_dz46_073.dat\n",
      "dz49_dz46_074.dat\n",
      "dz49_dz46_075.dat\n",
      "dz49_dz46_076.dat\n",
      "dz49_dz46_077.dat\n",
      "dz49_dz46_078.dat\n",
      "dz49_dz46_079.dat\n",
      "dz49_dz46_080.dat\n",
      "dz49_dz46_081.dat\n",
      "dz49_dz46_082.dat\n",
      "dz49_dz46_083.dat\n",
      "dz49_dz46_084.dat\n",
      "dz49_dz46_085.dat\n",
      "dz49_dz46_086.dat\n",
      "dz49_dz46_087.dat\n",
      "dz49_dz46_088.dat\n",
      "dz49_dz46_089.dat\n"
     ]
    },
    {
     "ename": "KeyboardInterrupt",
     "evalue": "",
     "output_type": "error",
     "traceback": [
      "\u001b[1;31m---------------------------------------------------------------------------\u001b[0m",
      "\u001b[1;31mKeyboardInterrupt\u001b[0m                         Traceback (most recent call last)",
      "\u001b[1;32m~\\AppData\\Local\\Temp/ipykernel_17928/3910239594.py\u001b[0m in \u001b[0;36m<module>\u001b[1;34m\u001b[0m\n\u001b[0;32m     18\u001b[0m         \u001b[0mdf1\u001b[0m \u001b[1;33m=\u001b[0m \u001b[0mdf\u001b[0m\u001b[1;33m.\u001b[0m\u001b[0mloc\u001b[0m\u001b[1;33m[\u001b[0m\u001b[1;36m2\u001b[0m\u001b[1;33m:\u001b[0m\u001b[0mdfLen\u001b[0m\u001b[1;33m,\u001b[0m\u001b[1;33m:\u001b[0m\u001b[1;33m]\u001b[0m\u001b[1;33m\u001b[0m\u001b[1;33m\u001b[0m\u001b[0m\n\u001b[0;32m     19\u001b[0m         \u001b[1;31m#display(df1)\u001b[0m\u001b[1;33m\u001b[0m\u001b[1;33m\u001b[0m\u001b[0m\n\u001b[1;32m---> 20\u001b[1;33m         \u001b[0mdf2\u001b[0m \u001b[1;33m=\u001b[0m \u001b[0mdf1\u001b[0m\u001b[1;33m[\u001b[0m\u001b[0mrec_date\u001b[0m\u001b[1;33m]\u001b[0m\u001b[1;33m.\u001b[0m\u001b[0mstr\u001b[0m\u001b[1;33m.\u001b[0m\u001b[0msplit\u001b[0m\u001b[1;33m(\u001b[0m\u001b[1;34m'\\t'\u001b[0m\u001b[1;33m,\u001b[0m \u001b[0mexpand\u001b[0m\u001b[1;33m=\u001b[0m\u001b[1;32mTrue\u001b[0m\u001b[1;33m)\u001b[0m\u001b[1;33m\u001b[0m\u001b[1;33m\u001b[0m\u001b[0m\n\u001b[0m\u001b[0;32m     21\u001b[0m         \u001b[0mdf2\u001b[0m\u001b[1;33m.\u001b[0m\u001b[0mcolumns\u001b[0m \u001b[1;33m=\u001b[0m\u001b[1;33m[\u001b[0m\u001b[1;34m'Time'\u001b[0m\u001b[1;33m,\u001b[0m \u001b[1;34m'tv0'\u001b[0m\u001b[1;33m,\u001b[0m \u001b[1;34m'tv1'\u001b[0m\u001b[1;33m,\u001b[0m\u001b[1;34m'tv2'\u001b[0m\u001b[1;33m,\u001b[0m\u001b[1;34m'tv3'\u001b[0m\u001b[1;33m,\u001b[0m \u001b[1;34m'ty0'\u001b[0m\u001b[1;33m,\u001b[0m \u001b[1;34m'ty1'\u001b[0m\u001b[1;33m,\u001b[0m\u001b[1;34m'ty2'\u001b[0m\u001b[1;33m,\u001b[0m\u001b[1;34m'ty3'\u001b[0m\u001b[1;33m]\u001b[0m\u001b[1;33m\u001b[0m\u001b[1;33m\u001b[0m\u001b[0m\n\u001b[0;32m     22\u001b[0m         \u001b[0mdf2\u001b[0m \u001b[1;33m=\u001b[0m \u001b[0mdf2\u001b[0m\u001b[1;33m.\u001b[0m\u001b[0mreset_index\u001b[0m\u001b[1;33m(\u001b[0m\u001b[0mdrop\u001b[0m\u001b[1;33m=\u001b[0m\u001b[1;32mTrue\u001b[0m\u001b[1;33m)\u001b[0m\u001b[1;33m\u001b[0m\u001b[1;33m\u001b[0m\u001b[0m\n",
      "\u001b[1;32m~\\anaconda3\\lib\\site-packages\\pandas\\core\\strings\\accessor.py\u001b[0m in \u001b[0;36mwrapper\u001b[1;34m(self, *args, **kwargs)\u001b[0m\n\u001b[0;32m    114\u001b[0m                 )\n\u001b[0;32m    115\u001b[0m                 \u001b[1;32mraise\u001b[0m \u001b[0mTypeError\u001b[0m\u001b[1;33m(\u001b[0m\u001b[0mmsg\u001b[0m\u001b[1;33m)\u001b[0m\u001b[1;33m\u001b[0m\u001b[1;33m\u001b[0m\u001b[0m\n\u001b[1;32m--> 116\u001b[1;33m             \u001b[1;32mreturn\u001b[0m \u001b[0mfunc\u001b[0m\u001b[1;33m(\u001b[0m\u001b[0mself\u001b[0m\u001b[1;33m,\u001b[0m \u001b[1;33m*\u001b[0m\u001b[0margs\u001b[0m\u001b[1;33m,\u001b[0m \u001b[1;33m**\u001b[0m\u001b[0mkwargs\u001b[0m\u001b[1;33m)\u001b[0m\u001b[1;33m\u001b[0m\u001b[1;33m\u001b[0m\u001b[0m\n\u001b[0m\u001b[0;32m    117\u001b[0m \u001b[1;33m\u001b[0m\u001b[0m\n\u001b[0;32m    118\u001b[0m         \u001b[0mwrapper\u001b[0m\u001b[1;33m.\u001b[0m\u001b[0m__name__\u001b[0m \u001b[1;33m=\u001b[0m \u001b[0mfunc_name\u001b[0m\u001b[1;33m\u001b[0m\u001b[1;33m\u001b[0m\u001b[0m\n",
      "\u001b[1;32m~\\anaconda3\\lib\\site-packages\\pandas\\core\\strings\\accessor.py\u001b[0m in \u001b[0;36msplit\u001b[1;34m(self, pat, n, expand)\u001b[0m\n\u001b[0;32m    787\u001b[0m     \u001b[1;33m@\u001b[0m\u001b[0mforbid_nonstring_types\u001b[0m\u001b[1;33m(\u001b[0m\u001b[1;33m[\u001b[0m\u001b[1;34m\"bytes\"\u001b[0m\u001b[1;33m]\u001b[0m\u001b[1;33m)\u001b[0m\u001b[1;33m\u001b[0m\u001b[1;33m\u001b[0m\u001b[0m\n\u001b[0;32m    788\u001b[0m     \u001b[1;32mdef\u001b[0m \u001b[0msplit\u001b[0m\u001b[1;33m(\u001b[0m\u001b[0mself\u001b[0m\u001b[1;33m,\u001b[0m \u001b[0mpat\u001b[0m\u001b[1;33m=\u001b[0m\u001b[1;32mNone\u001b[0m\u001b[1;33m,\u001b[0m \u001b[0mn\u001b[0m\u001b[1;33m=\u001b[0m\u001b[1;33m-\u001b[0m\u001b[1;36m1\u001b[0m\u001b[1;33m,\u001b[0m \u001b[0mexpand\u001b[0m\u001b[1;33m=\u001b[0m\u001b[1;32mFalse\u001b[0m\u001b[1;33m)\u001b[0m\u001b[1;33m:\u001b[0m\u001b[1;33m\u001b[0m\u001b[1;33m\u001b[0m\u001b[0m\n\u001b[1;32m--> 789\u001b[1;33m         \u001b[0mresult\u001b[0m \u001b[1;33m=\u001b[0m \u001b[0mself\u001b[0m\u001b[1;33m.\u001b[0m\u001b[0m_data\u001b[0m\u001b[1;33m.\u001b[0m\u001b[0marray\u001b[0m\u001b[1;33m.\u001b[0m\u001b[0m_str_split\u001b[0m\u001b[1;33m(\u001b[0m\u001b[0mpat\u001b[0m\u001b[1;33m,\u001b[0m \u001b[0mn\u001b[0m\u001b[1;33m,\u001b[0m \u001b[0mexpand\u001b[0m\u001b[1;33m)\u001b[0m\u001b[1;33m\u001b[0m\u001b[1;33m\u001b[0m\u001b[0m\n\u001b[0m\u001b[0;32m    790\u001b[0m         \u001b[1;32mreturn\u001b[0m \u001b[0mself\u001b[0m\u001b[1;33m.\u001b[0m\u001b[0m_wrap_result\u001b[0m\u001b[1;33m(\u001b[0m\u001b[0mresult\u001b[0m\u001b[1;33m,\u001b[0m \u001b[0mreturns_string\u001b[0m\u001b[1;33m=\u001b[0m\u001b[0mexpand\u001b[0m\u001b[1;33m,\u001b[0m \u001b[0mexpand\u001b[0m\u001b[1;33m=\u001b[0m\u001b[0mexpand\u001b[0m\u001b[1;33m)\u001b[0m\u001b[1;33m\u001b[0m\u001b[1;33m\u001b[0m\u001b[0m\n\u001b[0;32m    791\u001b[0m \u001b[1;33m\u001b[0m\u001b[0m\n",
      "\u001b[1;32m~\\anaconda3\\lib\\site-packages\\pandas\\core\\strings\\object_array.py\u001b[0m in \u001b[0;36m_str_split\u001b[1;34m(self, pat, n, expand)\u001b[0m\n\u001b[0;32m    320\u001b[0m                 \u001b[0mregex\u001b[0m \u001b[1;33m=\u001b[0m \u001b[0mre\u001b[0m\u001b[1;33m.\u001b[0m\u001b[0mcompile\u001b[0m\u001b[1;33m(\u001b[0m\u001b[0mpat\u001b[0m\u001b[1;33m)\u001b[0m\u001b[1;33m\u001b[0m\u001b[1;33m\u001b[0m\u001b[0m\n\u001b[0;32m    321\u001b[0m                 \u001b[0mf\u001b[0m \u001b[1;33m=\u001b[0m \u001b[1;32mlambda\u001b[0m \u001b[0mx\u001b[0m\u001b[1;33m:\u001b[0m \u001b[0mregex\u001b[0m\u001b[1;33m.\u001b[0m\u001b[0msplit\u001b[0m\u001b[1;33m(\u001b[0m\u001b[0mx\u001b[0m\u001b[1;33m,\u001b[0m \u001b[0mmaxsplit\u001b[0m\u001b[1;33m=\u001b[0m\u001b[0mn\u001b[0m\u001b[1;33m)\u001b[0m\u001b[1;33m\u001b[0m\u001b[1;33m\u001b[0m\u001b[0m\n\u001b[1;32m--> 322\u001b[1;33m         \u001b[1;32mreturn\u001b[0m \u001b[0mself\u001b[0m\u001b[1;33m.\u001b[0m\u001b[0m_str_map\u001b[0m\u001b[1;33m(\u001b[0m\u001b[0mf\u001b[0m\u001b[1;33m,\u001b[0m \u001b[0mdtype\u001b[0m\u001b[1;33m=\u001b[0m\u001b[0mobject\u001b[0m\u001b[1;33m)\u001b[0m\u001b[1;33m\u001b[0m\u001b[1;33m\u001b[0m\u001b[0m\n\u001b[0m\u001b[0;32m    323\u001b[0m \u001b[1;33m\u001b[0m\u001b[0m\n\u001b[0;32m    324\u001b[0m     \u001b[1;32mdef\u001b[0m \u001b[0m_str_rsplit\u001b[0m\u001b[1;33m(\u001b[0m\u001b[0mself\u001b[0m\u001b[1;33m,\u001b[0m \u001b[0mpat\u001b[0m\u001b[1;33m=\u001b[0m\u001b[1;32mNone\u001b[0m\u001b[1;33m,\u001b[0m \u001b[0mn\u001b[0m\u001b[1;33m=\u001b[0m\u001b[1;33m-\u001b[0m\u001b[1;36m1\u001b[0m\u001b[1;33m)\u001b[0m\u001b[1;33m:\u001b[0m\u001b[1;33m\u001b[0m\u001b[1;33m\u001b[0m\u001b[0m\n",
      "\u001b[1;32m~\\anaconda3\\lib\\site-packages\\pandas\\core\\strings\\object_array.py\u001b[0m in \u001b[0;36m_str_map\u001b[1;34m(self, f, na_value, dtype, convert)\u001b[0m\n\u001b[0;32m     67\u001b[0m         \u001b[0mmap_convert\u001b[0m \u001b[1;33m=\u001b[0m \u001b[0mconvert\u001b[0m \u001b[1;32mand\u001b[0m \u001b[1;32mnot\u001b[0m \u001b[0mnp\u001b[0m\u001b[1;33m.\u001b[0m\u001b[0mall\u001b[0m\u001b[1;33m(\u001b[0m\u001b[0mmask\u001b[0m\u001b[1;33m)\u001b[0m\u001b[1;33m\u001b[0m\u001b[1;33m\u001b[0m\u001b[0m\n\u001b[0;32m     68\u001b[0m         \u001b[1;32mtry\u001b[0m\u001b[1;33m:\u001b[0m\u001b[1;33m\u001b[0m\u001b[1;33m\u001b[0m\u001b[0m\n\u001b[1;32m---> 69\u001b[1;33m             \u001b[0mresult\u001b[0m \u001b[1;33m=\u001b[0m \u001b[0mlib\u001b[0m\u001b[1;33m.\u001b[0m\u001b[0mmap_infer_mask\u001b[0m\u001b[1;33m(\u001b[0m\u001b[0marr\u001b[0m\u001b[1;33m,\u001b[0m \u001b[0mf\u001b[0m\u001b[1;33m,\u001b[0m \u001b[0mmask\u001b[0m\u001b[1;33m.\u001b[0m\u001b[0mview\u001b[0m\u001b[1;33m(\u001b[0m\u001b[0mnp\u001b[0m\u001b[1;33m.\u001b[0m\u001b[0muint8\u001b[0m\u001b[1;33m)\u001b[0m\u001b[1;33m,\u001b[0m \u001b[0mmap_convert\u001b[0m\u001b[1;33m)\u001b[0m\u001b[1;33m\u001b[0m\u001b[1;33m\u001b[0m\u001b[0m\n\u001b[0m\u001b[0;32m     70\u001b[0m         \u001b[1;32mexcept\u001b[0m \u001b[1;33m(\u001b[0m\u001b[0mTypeError\u001b[0m\u001b[1;33m,\u001b[0m \u001b[0mAttributeError\u001b[0m\u001b[1;33m)\u001b[0m \u001b[1;32mas\u001b[0m \u001b[0me\u001b[0m\u001b[1;33m:\u001b[0m\u001b[1;33m\u001b[0m\u001b[1;33m\u001b[0m\u001b[0m\n\u001b[0;32m     71\u001b[0m             \u001b[1;31m# Reraise the exception if callable `f` got wrong number of args.\u001b[0m\u001b[1;33m\u001b[0m\u001b[1;33m\u001b[0m\u001b[0m\n",
      "\u001b[1;32m~\\anaconda3\\lib\\site-packages\\pandas\\_libs\\lib.pyx\u001b[0m in \u001b[0;36mpandas._libs.lib.map_infer_mask\u001b[1;34m()\u001b[0m\n",
      "\u001b[1;32m~\\anaconda3\\lib\\site-packages\\pandas\\core\\strings\\object_array.py\u001b[0m in \u001b[0;36m<lambda>\u001b[1;34m(x)\u001b[0m\n\u001b[0;32m    314\u001b[0m                 \u001b[1;32mif\u001b[0m \u001b[0mn\u001b[0m \u001b[1;32mis\u001b[0m \u001b[1;32mNone\u001b[0m \u001b[1;32mor\u001b[0m \u001b[0mn\u001b[0m \u001b[1;33m==\u001b[0m \u001b[1;36m0\u001b[0m\u001b[1;33m:\u001b[0m\u001b[1;33m\u001b[0m\u001b[1;33m\u001b[0m\u001b[0m\n\u001b[0;32m    315\u001b[0m                     \u001b[0mn\u001b[0m \u001b[1;33m=\u001b[0m \u001b[1;33m-\u001b[0m\u001b[1;36m1\u001b[0m\u001b[1;33m\u001b[0m\u001b[1;33m\u001b[0m\u001b[0m\n\u001b[1;32m--> 316\u001b[1;33m                 \u001b[0mf\u001b[0m \u001b[1;33m=\u001b[0m \u001b[1;32mlambda\u001b[0m \u001b[0mx\u001b[0m\u001b[1;33m:\u001b[0m \u001b[0mx\u001b[0m\u001b[1;33m.\u001b[0m\u001b[0msplit\u001b[0m\u001b[1;33m(\u001b[0m\u001b[0mpat\u001b[0m\u001b[1;33m,\u001b[0m \u001b[0mn\u001b[0m\u001b[1;33m)\u001b[0m\u001b[1;33m\u001b[0m\u001b[1;33m\u001b[0m\u001b[0m\n\u001b[0m\u001b[0;32m    317\u001b[0m             \u001b[1;32melse\u001b[0m\u001b[1;33m:\u001b[0m\u001b[1;33m\u001b[0m\u001b[1;33m\u001b[0m\u001b[0m\n\u001b[0;32m    318\u001b[0m                 \u001b[1;32mif\u001b[0m \u001b[0mn\u001b[0m \u001b[1;32mis\u001b[0m \u001b[1;32mNone\u001b[0m \u001b[1;32mor\u001b[0m \u001b[0mn\u001b[0m \u001b[1;33m==\u001b[0m \u001b[1;33m-\u001b[0m\u001b[1;36m1\u001b[0m\u001b[1;33m:\u001b[0m\u001b[1;33m\u001b[0m\u001b[1;33m\u001b[0m\u001b[0m\n",
      "\u001b[1;31mKeyboardInterrupt\u001b[0m: "
     ]
    }
   ],
   "source": [
    "import os\n",
    "import pandas as pd\n",
    "entries = os.listdir()\n",
    "#rec_date = '8/6/2022'\n",
    "#mouse_n = 'dz21'\n",
    "n_n = rec_date.replace('/','-')\n",
    "\n",
    "tot_f_n = mouse_n+'_'+n_n+'.csv'\n",
    "print(tot_f_n)\n",
    "li = []\n",
    "for file in entries:\n",
    "    # Check whether file is in text format or not\n",
    "    if file.endswith(\".dat\"):\n",
    "        print(file)\n",
    "        # call read text file function\n",
    "        df = pd.read_csv(file,sep='\\s\\s+', engine='python')\n",
    "        dfLen = len(df)-2 # exclude of the first two rows\n",
    "        df1 = df.loc[2:dfLen,:]\n",
    "        #display(df1)\n",
    "        df2 = df1[rec_date].str.split('\\t', expand=True)\n",
    "        df2.columns =['Time', 'tv0', 'tv1','tv2','tv3', 'ty0', 'ty1','ty2','ty3']\n",
    "        df2 = df2.reset_index(drop=True)\n",
    "        #display(df2)\n",
    "        df3 = df2.loc[:,'Time':'tv3']\n",
    "        #display(df3)\n",
    "        li.append(df3)\n",
    "frame = pd.concat(li, axis=0, ignore_index=True)\n",
    "\n",
    "#frame.to_csv(tot_f_n, index=False)\n"
   ]
  },
  {
   "cell_type": "code",
   "execution_count": null,
   "id": "8f3359a6",
   "metadata": {},
   "outputs": [],
   "source": [
    "#import numpy as np, scipy.io\n",
    "#truncDataFrame = frame # reduce data size for test purposes\n",
    "#scipy.io.savemat('EEGdata1.mat', {'struct1':truncDataFrame.to_dict(\"list\")})"
   ]
  },
  {
   "cell_type": "code",
   "execution_count": null,
   "id": "0a031c1e",
   "metadata": {},
   "outputs": [],
   "source": [
    "import numpy as np\n",
    "f_array = frame.to_numpy()\n",
    "#np.save('Calcium_data.npy', f_array) # save\n",
    "np.save(save_n, f_array) # save\n",
    "#np.savetxt('test1.txt', f_array)"
   ]
  },
  {
   "cell_type": "code",
   "execution_count": null,
   "id": "452d1dc4",
   "metadata": {},
   "outputs": [],
   "source": [
    "#new_num_arr = np.load('Calcium_data.npy', allow_pickle=True) # load\n",
    "end_time = datetime.now()\n",
    "print('Duration: {}'.format(end_time - start_time))"
   ]
  },
  {
   "cell_type": "code",
   "execution_count": null,
   "id": "4cdc525d",
   "metadata": {},
   "outputs": [],
   "source": [
    "import winsound\n",
    "duration = 100  # milliseconds\n",
    "freq = 440  # Hz\n",
    "winsound.Beep(freq, duration)"
   ]
  },
  {
   "cell_type": "code",
   "execution_count": null,
   "id": "ef6837c1",
   "metadata": {},
   "outputs": [],
   "source": []
  }
 ],
 "metadata": {
  "kernelspec": {
   "display_name": "Python 3 (ipykernel)",
   "language": "python",
   "name": "python3"
  },
  "language_info": {
   "codemirror_mode": {
    "name": "ipython",
    "version": 3
   },
   "file_extension": ".py",
   "mimetype": "text/x-python",
   "name": "python",
   "nbconvert_exporter": "python",
   "pygments_lexer": "ipython3",
   "version": "3.9.7"
  }
 },
 "nbformat": 4,
 "nbformat_minor": 5
}
